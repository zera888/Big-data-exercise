{
 "cells": [
  {
   "cell_type": "code",
   "execution_count": 1,
   "metadata": {},
   "outputs": [
    {
     "name": "stdout",
     "output_type": "stream",
     "text": [
      "<re.Match object; span=(0, 3), match='abc'>\n",
      "abc\n",
      "0\n",
      "3\n",
      "(0, 3)\n"
     ]
    }
   ],
   "source": [
    "#re_match.py\n",
    "\n",
    "import re\n",
    "m = re.match(r'[a-z]+','abc123xyz')\n",
    "print(m) \n",
    "if m != None:\n",
    "    print(m.group())    #abc\n",
    "    print(m.start())    #0\n",
    "    print(m.end())      #3\n",
    "    print(m.span())     #(0, 3)"
   ]
  },
  {
   "cell_type": "code",
   "execution_count": 2,
   "metadata": {},
   "outputs": [
    {
     "name": "stdout",
     "output_type": "stream",
     "text": [
      "<re.Match object; span=(0, 3), match='abc'>\n",
      "abc\n",
      "0\n",
      "3\n",
      "(0, 3)\n"
     ]
    }
   ],
   "source": [
    "# re_search.py\n",
    "import re\n",
    "m = re.search(r'[a-z]+', 'abc123xyz')\n",
    "print(m)    # <re.Match object; span=(0, 3), match='abc'>\n",
    "if m != None:\n",
    "    print(m.group())  # abc\n",
    "    print(m.start())  # 0\n",
    "    print(m.end())    # 3\n",
    "    print(m.span())   # (0,3)"
   ]
  },
  {
   "cell_type": "code",
   "execution_count": 3,
   "metadata": {},
   "outputs": [
    {
     "name": "stdout",
     "output_type": "stream",
     "text": [
      "['abc', 'xyz']\n"
     ]
    }
   ],
   "source": [
    "#re_findall.py\n",
    "import re\n",
    "m = re.findall(r'[a-z]+', 'abc123xyz')\n",
    "print(m)    # ['abc', 'xyz'"
   ]
  },
  {
   "cell_type": "code",
   "execution_count": 4,
   "metadata": {},
   "outputs": [
    {
     "name": "stdout",
     "output_type": "stream",
     "text": [
      "Password:*,ID:*\n"
     ]
    }
   ],
   "source": [
    "#re_sub.py\n",
    "import re\n",
    "result = re.sub(r\"\\d+\", \"*\", \"Password:1234,ID:5678\")\n",
    "print(result) # Password:*,ID:*"
   ]
  },
  {
   "cell_type": "code",
   "execution_count": 7,
   "metadata": {},
   "outputs": [
    {
     "name": "stdout",
     "output_type": "stream",
     "text": [
      "顯示 email\n",
      "mail@test.com.tw\n",
      "\n",
      "mail2@test.com.tw\n",
      "\n",
      "顯示定價金額\n",
      "360\n",
      "\n",
      "顯示圖片網址\n",
      "/p1.jpg\n",
      "\n",
      "/p2.jpg\n",
      "\n",
      "/p3.png\n",
      "\n",
      "顯示電話號碼\n",
      "(04)-76543210\n",
      "\n",
      "0937-123456\n",
      "\n"
     ]
    }
   ],
   "source": [
    "#regus.py\n",
    "\n",
    "html = \"\"\"\n",
    "<div class=\"content\">\n",
    "    E-Mail：<a href=\"mailto:mail@test.com.tw\">mail</a><br>\n",
    "    E-Mail2：<a href=\"mailto:mail2@test.com.tw\">mail2</a><br>\n",
    "    <ul class=\"price\">定價：360元 </ul>\n",
    "    <img src=\"http://test.com.tw/p1.jpg\">\n",
    "    <img src=\"http://test.com.tw/p2.jpg\">\n",
    "    <img src=\"http://test.com.tw/p3.png\">\n",
    "    電話：(04)-76543210、0937-123456\n",
    "</div>\n",
    "\"\"\"\n",
    "\n",
    "import re\n",
    "\n",
    "print('顯示 email')\n",
    "emails = re.findall(r'[a-zA-Z0-9_.+-]+@[a-zA-Z0-9-]+\\.[a-zA-Z0-9-.]+',html)\n",
    "for email in emails: #顯示 email\n",
    "    print(email)\n",
    "    print('')\n",
    "\n",
    "print('顯示定價金額')\n",
    "price=re.findall(r'[\\d]+元',html)[0].split('元')[0] #價格\n",
    "print(price) #顯示定價金額\n",
    "print('')\n",
    "\n",
    "print('顯示圖片網址')\n",
    "imglist = re.findall(r'[http://]+[-zA-Z0-9-/.]+\\.[jpgpng]+',html)\n",
    "for img in imglist: #\n",
    "    print(img) #顯示圖片網址\n",
    "    print('')\n",
    "    \n",
    "print('顯示電話號碼')\n",
    "phonelist = re.findall(r'\\(?\\d{2,4}\\)?\\-\\d{6,8}',html)\n",
    "for phone in phonelist:\n",
    "    print(phone) #顯示電話號碼 \n",
    "    print('')"
   ]
  },
  {
   "cell_type": "code",
   "execution_count": null,
   "metadata": {},
   "outputs": [],
   "source": []
  }
 ],
 "metadata": {
  "kernelspec": {
   "display_name": "Python 3",
   "language": "python",
   "name": "python3"
  },
  "language_info": {
   "codemirror_mode": {
    "name": "ipython",
    "version": 3
   },
   "file_extension": ".py",
   "mimetype": "text/x-python",
   "name": "python",
   "nbconvert_exporter": "python",
   "pygments_lexer": "ipython3",
   "version": "3.8.5"
  }
 },
 "nbformat": 4,
 "nbformat_minor": 4
}
