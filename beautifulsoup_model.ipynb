{
 "cells": [
  {
   "cell_type": "code",
   "execution_count": 2,
   "metadata": {},
   "outputs": [
    {
     "name": "stdout",
     "output_type": "stream",
     "text": [
      "<title>我是網頁標題</title>\n",
      "我是網頁標題\n",
      "<h1 class=\"large\">我是標題</h1>\n",
      "<p>我是段落</p>\n"
     ]
    }
   ],
   "source": [
    "# 1bs1.py\n",
    "import requests\n",
    "from bs4 import BeautifulSoup\n",
    "url = 'http://ehappy.tw/bsdemo1.htm'\n",
    "html = requests.get(url)\n",
    "html.encoding = 'UTF-8'\n",
    "sp = BeautifulSoup(html.text, 'lxml')\n",
    "\n",
    "print(sp.title)\n",
    "print(sp.title.text)\n",
    "print(sp.h1)\n",
    "print(sp.p)"
   ]
  },
  {
   "cell_type": "code",
   "execution_count": 3,
   "metadata": {},
   "outputs": [
    {
     "name": "stdout",
     "output_type": "stream",
     "text": [
      "<p id=\"p1\">我是段落一</p>\n",
      "[<p id=\"p1\">我是段落一</p>, <p class=\"red\" id=\"p2\">我是段落二</p>]\n",
      "<p class=\"red\" id=\"p2\">我是段落二</p>\n",
      "<p class=\"red\" id=\"p2\">我是段落二</p>\n"
     ]
    }
   ],
   "source": [
    "# bs2.py\n",
    "from bs4 import BeautifulSoup\n",
    "html = '''\n",
    "<html>\n",
    "  <head><meta charset=\"UTF-8\"><title>我是網頁標題</title></head>\n",
    "  <body>\n",
    "      <p id=\"p1\">我是段落一</p>\n",
    "      <p id=\"p2\" class='red'>我是段落二</p>\n",
    "  </body>\n",
    "</html>\n",
    "'''\n",
    "sp = BeautifulSoup(html, 'lxml')\n",
    "print(sp.find('p'))\n",
    "print(sp.find_all('p'))\n",
    "print(sp.find('p', {'id':'p2', 'class':'red'}))\n",
    "print(sp.find('p', id='p2', class_= 'red'))"
   ]
  },
  {
   "cell_type": "code",
   "execution_count": 4,
   "metadata": {},
   "outputs": [
    {
     "name": "stdout",
     "output_type": "stream",
     "text": [
      "[<title>我是網頁標題</title>]\n",
      "[<p id=\"p1\">我是段落一</p>, <p class=\"red\" id=\"p2\">我是段落二</p>]\n",
      "[<p id=\"p1\">我是段落一</p>]\n",
      "[<p class=\"red\" id=\"p2\">我是段落二</p>]\n"
     ]
    }
   ],
   "source": [
    "#bs3.py\n",
    "from bs4 import BeautifulSoup\n",
    "html = '''\n",
    "<html>\n",
    "  <head><meta charset=\"UTF-8\"><title>我是網頁標題</title></head>\n",
    "  <body>\n",
    "      <p id=\"p1\">我是段落一</p>\n",
    "      <p id=\"p2\" class='red'>我是段落二</p>\n",
    "  </body>\n",
    "</html>\n",
    "'''\n",
    "sp = BeautifulSoup(html, 'lxml')\n",
    "print(sp.select('title'))\n",
    "print(sp.select('p'))\n",
    "print(sp.select('#p1'))\n",
    "print(sp.select('.red'))"
   ]
  },
  {
   "cell_type": "code",
   "execution_count": 5,
   "metadata": {},
   "outputs": [
    {
     "name": "stdout",
     "output_type": "stream",
     "text": [
      "http://www.ehappy.tw/python.png\n",
      "http://www.e-happy.com.tw\n",
      "http://www.ehappy.tw/python.png\n",
      "http://www.e-happy.com.tw\n"
     ]
    }
   ],
   "source": [
    "# bs4.py\n",
    "from bs4 import BeautifulSoup\n",
    "html = '''\n",
    "<html>\n",
    "  <head><meta charset=\"UTF-8\"><title>我是網頁標題</title></head>\n",
    "  <body>\n",
    "      <img src=\"http://www.ehappy.tw/python.png\">\n",
    "      <a href=\"http://www.e-happy.com.tw\">超連結</a>\n",
    "  </body>\n",
    "</html>\n",
    "'''\n",
    "sp = BeautifulSoup(html, 'lxml')\n",
    "print(sp.select('img')[0].get('src'))\n",
    "print(sp.select('a')[0].get('href'))\n",
    "print(sp.select('img')[0]['src'])\n",
    "print(sp.select('a')[0]['href'])"
   ]
  },
  {
   "cell_type": "code",
   "execution_count": 6,
   "metadata": {},
   "outputs": [
    {
     "name": "stdout",
     "output_type": "stream",
     "text": [
      "<title>網頁標題</title>\n",
      "<h1>文件標題</h1>\n",
      "[<a class=\"red\" href=\"http://example.com/one\" id=\"link1\">First</a>, <a class=\"red\" href=\"http://example.com/two\" id=\"link2\">Second</a>, <a class=\"blue\" href=\"http://example.com/three\" id=\"link3\">\n",
      "<img src=\"http://example.com/three.jpg\"/>Third\n",
      "    </a>]\n",
      "[<a class=\"red\" href=\"http://example.com/one\" id=\"link1\">First</a>, <a class=\"red\" href=\"http://example.com/two\" id=\"link2\">Second</a>]\n",
      "First\n",
      "First\n",
      "http://example.com/one\n",
      "http://example.com/one\n",
      "[<title>網頁標題</title>, <h1>文件標題</h1>]\n",
      "http://example.com/three.jpg\n"
     ]
    }
   ],
   "source": [
    "#bspy\n",
    "html = \"\"\"\n",
    "<html><head><title>網頁標題</title></head>\n",
    "<h1>文件標題</h1>\n",
    "<div class=\"content\">\n",
    "    <div class=\"item1\">\n",
    "        <a href=\"http://example.com/one\" class=\"red\" id=\"link1\">First</a>\n",
    "        <a href=\"http://example.com/two\" class=\"red\" id=\"link2\">Second</a>\n",
    "    </div>\n",
    "    <a href=\"http://example.com/three\" class=\"blue\" id=\"link3\">\n",
    "        <img src=\"http://example.com/three.jpg\">Third\n",
    "    </a>\n",
    "</div>\n",
    "\"\"\"\n",
    "\n",
    "from bs4 import BeautifulSoup\n",
    "sp = BeautifulSoup(html,'lxml') \n",
    "\n",
    "print(sp.title) # <title>網頁標題</title>\n",
    "\n",
    "print(sp.find('h1')) # <h1>文件標題</h1>\n",
    "\n",
    "print(sp.find_all('a')) \n",
    "print(sp.find_all(\"a\", {\"class\":\"red\"}))\n",
    "\n",
    "data1=sp.find(\"a\", {\"href\":\"http://example.com/one\"})\n",
    "print(data1.text) # First\n",
    "\n",
    "data2 = sp.select(\"#link1\") \n",
    "print(data2[0].text) # First\n",
    "print(data2[0].get(\"href\")) # http://example.com/one\n",
    "print(data2[0][\"href\"])     # http://example.com/one\n",
    "\n",
    "print(sp.find_all(['title','h1'])) # [<title>網頁標題</title>, <h1>文件標題</h1>]\n",
    "\n",
    "print(sp.select('div img')[0]['src']) # http://example.com/three.jpg\n",
    "\n",
    "\n"
   ]
  },
  {
   "cell_type": "code",
   "execution_count": null,
   "metadata": {},
   "outputs": [],
   "source": []
  }
 ],
 "metadata": {
  "kernelspec": {
   "display_name": "Python 3",
   "language": "python",
   "name": "python3"
  },
  "language_info": {
   "codemirror_mode": {
    "name": "ipython",
    "version": 3
   },
   "file_extension": ".py",
   "mimetype": "text/x-python",
   "name": "python",
   "nbconvert_exporter": "python",
   "pygments_lexer": "ipython3",
   "version": "3.8.5"
  }
 },
 "nbformat": 4,
 "nbformat_minor": 4
}
